{
 "cells": [
  {
   "cell_type": "code",
   "execution_count": 1,
   "metadata": {
    "ExecuteTime": {
     "end_time": "2021-01-14T18:37:53.174630Z",
     "start_time": "2021-01-14T18:37:53.153629Z"
    }
   },
   "outputs": [
    {
     "data": {
      "text/html": [
       "<style>.container { width:100% !important; }</style>"
      ],
      "text/plain": [
       "<IPython.core.display.HTML object>"
      ]
     },
     "metadata": {},
     "output_type": "display_data"
    }
   ],
   "source": [
    "from IPython.core.display import display, HTML\n",
    "display(HTML(\"<style>.container { width:100% !important; }</style>\"))"
   ]
  },
  {
   "cell_type": "code",
   "execution_count": 2,
   "metadata": {
    "ExecuteTime": {
     "end_time": "2021-01-14T18:37:54.915627Z",
     "start_time": "2021-01-14T18:37:53.179130Z"
    }
   },
   "outputs": [],
   "source": [
    "import pandas as pd\n",
    "import numpy as np\n",
    "pd.set_option('display.max_rows', None)"
   ]
  },
  {
   "cell_type": "code",
   "execution_count": 3,
   "metadata": {
    "ExecuteTime": {
     "end_time": "2021-01-14T18:37:57.435191Z",
     "start_time": "2021-01-14T18:37:54.920130Z"
    }
   },
   "outputs": [],
   "source": [
    "import os\n",
    "from micdrop.utils.git_utils import get_git_root\n",
    "from micdrop.src.preprocessing.run_preprocessing import load_raw_data, run_preprocessing"
   ]
  },
  {
   "cell_type": "code",
   "execution_count": 4,
   "metadata": {
    "ExecuteTime": {
     "end_time": "2021-01-14T18:37:58.098157Z",
     "start_time": "2021-01-14T18:37:57.437655Z"
    }
   },
   "outputs": [],
   "source": [
    "git_root = get_git_root(os.getcwd())"
   ]
  },
  {
   "cell_type": "code",
   "execution_count": 5,
   "metadata": {
    "ExecuteTime": {
     "end_time": "2021-01-14T18:37:58.109161Z",
     "start_time": "2021-01-14T18:37:58.102158Z"
    }
   },
   "outputs": [],
   "source": [
    "# Approx 50% urban, non-urban split (is non-urban suburban or rural? feels mostly suburban here when checking distributions of a few of the larger cities)\n",
    "# Some cities appear entirely urban (st louis, philadelphia, st petersburg, west park, nashville) -> how much do we trust the urban / non-urban split?\n",
    "# Approx 2% with credit card on file\n",
    "# Approx 30% students (younger)\n",
    "# Favorite genre heavily skewed to hip_hop -> was this a campaign targeting hiphop listeners?\n",
    "# Nationwide (US only) with a few states more heavily represented (by population?) -> seems to be miami area, los angeles area, hawaii, and scattered other big cities. \n",
    "# Somewhat messy. Would be nice to have a zipcode (for urban / non-urban) or metro area field (lax vs los angeles, miami vs miami beach, atl vs atlanta)\n",
    "# Big long tail of other cities\n",
    "# 70% towards mobile, 30% towards desktop\n",
    "# Click to subscribe rate is 7%, which is pretty good.\n",
    "\n",
    "\n",
    "# Interesting that the data uses the holiday period (christmas + new years). May not be 100% representative of the rest of the year.\n",
    "# Ex: people are more likely to NOT be at their home address at this time. So ad effectiveness likely also needs an approx location of device\n",
    "# and then create an \"is_near_home\" feature\n",
    "\n",
    "# Other demographics probably important: age, income"
   ]
  },
  {
   "cell_type": "code",
   "execution_count": 6,
   "metadata": {
    "ExecuteTime": {
     "end_time": "2021-01-14T18:37:58.869655Z",
     "start_time": "2021-01-14T18:37:58.115162Z"
    }
   },
   "outputs": [
    {
     "name": "stdout",
     "output_type": "stream",
     "text": [
      "Reading data from: C:/Users/Furton Akos/Desktop/stackoverflow_auto_mod/data/raw/micdrop_subsciptions_data_v1.csv\n"
     ]
    }
   ],
   "source": [
    "df = run_preprocessing(git_root)"
   ]
  },
  {
   "cell_type": "code",
   "execution_count": 7,
   "metadata": {
    "ExecuteTime": {
     "end_time": "2021-01-14T18:37:58.881658Z",
     "start_time": "2021-01-14T18:37:58.873155Z"
    }
   },
   "outputs": [],
   "source": [
    "def calc_click_to_subscribe_ratio(df, group_col, plot=False):\n",
    "    df_grp = df.groupby(group_col)['subscriber'].mean()\n",
    "    if plot:\n",
    "        df_grp.plot.bar()\n",
    "        \n",
    "    return df_grp"
   ]
  },
  {
   "cell_type": "code",
   "execution_count": 8,
   "metadata": {
    "ExecuteTime": {
     "end_time": "2021-01-14T18:37:59.610659Z",
     "start_time": "2021-01-14T18:37:58.890156Z"
    }
   },
   "outputs": [
    {
     "data": {
      "text/plain": [
       "student\n",
       "non_student    0.073233\n",
       "student        0.069303\n",
       "Name: subscriber, dtype: float64"
      ]
     },
     "execution_count": 8,
     "metadata": {},
     "output_type": "execute_result"
    },
    {
     "data": {
      "image/png": "[encoded data removed]",
      "text/plain": [
       "<Figure size 432x288 with 1 Axes>"
      ]
     },
     "metadata": {
      "needs_background": "light"
     },
     "output_type": "display_data"
    }
   ],
   "source": [
    "# Student status overall does not affect conversion rates\n",
    "calc_click_to_subscribe_ratio(df, 'student', plot=True)"
   ]
  },
  {
   "cell_type": "code",
   "execution_count": 9,
   "metadata": {
    "ExecuteTime": {
     "end_time": "2021-01-14T18:37:59.902156Z",
     "start_time": "2021-01-14T18:37:59.618156Z"
    }
   },
   "outputs": [
    {
     "data": {
      "text/plain": [
       "fav_genre\n",
       "classical     0.052478\n",
       "country       0.046154\n",
       "hip_hop       0.072501\n",
       "indie_rock    0.036107\n",
       "latin         0.037699\n",
       "punk_rock     0.054180\n",
       "r&b           0.058518\n",
       "techno        0.069606\n",
       "unknown       0.086216\n",
       "Name: subscriber, dtype: float64"
      ]
     },
     "execution_count": 9,
     "metadata": {},
     "output_type": "execute_result"
    },
    {
     "data": {
      "image/png": "[encoded data removed]",
      "text/plain": [
       "<Figure size 432x288 with 1 Axes>"
      ]
     },
     "metadata": {
      "needs_background": "light"
     },
     "output_type": "display_data"
    }
   ],
   "source": [
    "calc_click_to_subscribe_ratio(df, 'fav_genre', plot=True)\n",
    "\n",
    "# For people who are correctly targeted (hip hop ads when hip hop is favorite genre) -> conversion is pretty good\n",
    "# Build targeted ads based on people's preferred genres"
   ]
  },
  {
   "cell_type": "code",
   "execution_count": 10,
   "metadata": {
    "ExecuteTime": {
     "end_time": "2021-01-14T18:38:00.166655Z",
     "start_time": "2021-01-14T18:37:59.907155Z"
    }
   },
   "outputs": [
    {
     "data": {
      "text/plain": [
       "credit_card_on_file\n",
       "no     0.07078\n",
       "yes    0.12973\n",
       "Name: subscriber, dtype: float64"
      ]
     },
     "execution_count": 10,
     "metadata": {},
     "output_type": "execute_result"
    },
    {
     "data": {
      "image/png": "[encoded data removed]",
      "text/plain": [
       "<Figure size 432x288 with 1 Axes>"
      ]
     },
     "metadata": {
      "needs_background": "light"
     },
     "output_type": "display_data"
    }
   ],
   "source": [
    "calc_click_to_subscribe_ratio(df, 'credit_card_on_file', plot=True)\n",
    "\n",
    "# Conversion rate is significantly above average if credit card info already stored (existing customer, easy payment method)"
   ]
  },
  {
   "cell_type": "code",
   "execution_count": 11,
   "metadata": {
    "ExecuteTime": {
     "end_time": "2021-01-14T18:38:00.436657Z",
     "start_time": "2021-01-14T18:38:00.171159Z"
    }
   },
   "outputs": [
    {
     "data": {
      "text/plain": [
       "day_of_week\n",
       "Friday       0.073047\n",
       "Monday       0.066225\n",
       "Saturday     0.072650\n",
       "Sunday       0.072286\n",
       "Thursday     0.073526\n",
       "Tuesday      0.072507\n",
       "Wednesday    0.072671\n",
       "Name: subscriber, dtype: float64"
      ]
     },
     "execution_count": 11,
     "metadata": {},
     "output_type": "execute_result"
    },
    {
     "data": {
      "image/png": "[encoded data removed]",
      "text/plain": [
       "<Figure size 432x288 with 1 Axes>"
      ]
     },
     "metadata": {
      "needs_background": "light"
     },
     "output_type": "display_data"
    }
   ],
   "source": [
    "df[\"day_of_week\"] = df[\"click_date\"].dt.day_name()\n",
    "calc_click_to_subscribe_ratio(df, 'day_of_week', plot=True)\n",
    "\n",
    "# Conversion rate does not depend significantly on day of week, though Monday is somewhat lower. "
   ]
  },
  {
   "cell_type": "code",
   "execution_count": 12,
   "metadata": {
    "ExecuteTime": {
     "end_time": "2021-01-14T18:38:00.682653Z",
     "start_time": "2021-01-14T18:38:00.441154Z"
    }
   },
   "outputs": [
    {
     "data": {
      "text/plain": [
       "is_holiday\n",
       "holiday        0.063948\n",
       "not_holiday    0.072410\n",
       "Name: subscriber, dtype: float64"
      ]
     },
     "execution_count": 12,
     "metadata": {},
     "output_type": "execute_result"
    },
    {
     "data": {
      "image/png": "[encoded data removed]",
      "text/plain": [
       "<Figure size 432x288 with 1 Axes>"
      ]
     },
     "metadata": {
      "needs_background": "light"
     },
     "output_type": "display_data"
    }
   ],
   "source": [
    "# Conversion rate is below average on holidays (Christmas, New Years). User behavior different on average day vs holiday\n",
    "calc_click_to_subscribe_ratio(df, 'is_holiday', plot=True)"
   ]
  },
  {
   "cell_type": "code",
   "execution_count": 13,
   "metadata": {
    "ExecuteTime": {
     "end_time": "2021-01-14T18:38:00.929654Z",
     "start_time": "2021-01-14T18:38:00.688156Z"
    }
   },
   "outputs": [],
   "source": [
    "from micdrop.utils.constants import CITY_MAP, FILLNA_DICT, Y_VAR, NUMERIC_COLS, CATEGORICAL_COLS\n",
    "\n",
    "data_dummy = pd.get_dummies(\n",
    "        df[[Y_VAR] + CATEGORICAL_COLS + NUMERIC_COLS], dummy_na=True\n",
    "    )"
   ]
  },
  {
   "cell_type": "code",
   "execution_count": 14,
   "metadata": {
    "ExecuteTime": {
     "end_time": "2021-01-14T18:38:18.441159Z",
     "start_time": "2021-01-14T18:38:00.933156Z"
    }
   },
   "outputs": [
    {
     "data": {
      "text/plain": [
       "RandomForestClassifier()"
      ]
     },
     "execution_count": 14,
     "metadata": {},
     "output_type": "execute_result"
    }
   ],
   "source": [
    "from sklearn.metrics import confusion_matrix\n",
    "from sklearn.model_selection import train_test_split\n",
    "from sklearn.ensemble import RandomForestClassifier\n",
    "np.random.seed(12345)\n",
    "\n",
    "#split into train and test to avoid overfitting\n",
    "train, test = train_test_split(data_dummy, test_size = 0.33)\n",
    "\n",
    "# build model\n",
    "clf = RandomForestClassifier(n_estimators = 100)\n",
    "clf.fit(train.drop(Y_VAR, axis=1), train[Y_VAR])"
   ]
  },
  {
   "cell_type": "code",
   "execution_count": 15,
   "metadata": {
    "ExecuteTime": {
     "end_time": "2021-01-14T18:38:18.450157Z",
     "start_time": "2021-01-14T18:38:18.445656Z"
    }
   },
   "outputs": [],
   "source": [
    "# Would probably perfer negative log loss. \n",
    "# TODO: Implement"
   ]
  },
  {
   "cell_type": "code",
   "execution_count": 16,
   "metadata": {
    "ExecuteTime": {
     "end_time": "2021-01-14T18:38:18.821158Z",
     "start_time": "2021-01-14T18:38:18.454155Z"
    }
   },
   "outputs": [
    {
     "data": {
      "text/plain": [
       "<matplotlib.axes._subplots.AxesSubplot at 0x223765aafc8>"
      ]
     },
     "execution_count": 16,
     "metadata": {},
     "output_type": "execute_result"
    },
    {
     "data": {
      "image/png": "[encoded data removed]",
      "text/plain": [
       "<Figure size 432x288 with 1 Axes>"
      ]
     },
     "metadata": {
      "needs_background": "light"
     },
     "output_type": "display_data"
    }
   ],
   "source": [
    "# Feature Importances\n",
    "feat_importances = pd.Series(clf.feature_importances_, index=train.drop(Y_VAR, axis=1).columns)\n",
    "feat_importances.sort_values()[-20:].plot(kind='barh')"
   ]
  },
  {
   "cell_type": "code",
   "execution_count": 17,
   "metadata": {
    "ExecuteTime": {
     "end_time": "2021-01-14T18:38:18.830156Z",
     "start_time": "2021-01-14T18:38:18.825156Z"
    },
    "scrolled": true
   },
   "outputs": [],
   "source": [
    "# Web appears to be the most important\n",
    "# followed by urban, lack of holiday, credit card on file, a few \"other cities\""
   ]
  },
  {
   "cell_type": "code",
   "execution_count": 18,
   "metadata": {
    "ExecuteTime": {
     "end_time": "2021-01-14T18:38:38.034656Z",
     "start_time": "2021-01-14T18:38:18.834657Z"
    }
   },
   "outputs": [
    {
     "data": {
      "text/plain": [
       "<matplotlib.axes._subplots.AxesSubplot at 0x22301286148>"
      ]
     },
     "execution_count": 18,
     "metadata": {},
     "output_type": "execute_result"
    },
    {
     "data": {
      "image/png": "[encoded data removed]",
      "text/plain": [
       "<Figure size 432x288 with 1 Axes>"
      ]
     },
     "metadata": {
      "needs_background": "light"
     },
     "output_type": "display_data"
    }
   ],
   "source": [
    "# Partial dependence plots\n",
    "from pdpbox import pdp, info_plots\n",
    "\n",
    "#country\n",
    "pdp_iso = pdp.pdp_isolate(model=clf, \n",
    "                          dataset=train.drop(Y_VAR, axis=1),      \n",
    "                          model_features=list(train.drop(Y_VAR, axis=1)), \n",
    "                          feature=[x for x in train.columns if \"fav_genre\" in x], \n",
    "                          num_grid_points=50)\n",
    "pdp_dataset = pd.Series(pdp_iso.pdp, index=pdp_iso.display_columns)\n",
    "pdp_dataset.sort_values(ascending=False).plot(kind='bar', title='fav_genre')"
   ]
  },
  {
   "cell_type": "code",
   "execution_count": 19,
   "metadata": {
    "ExecuteTime": {
     "end_time": "2021-01-14T18:38:46.134158Z",
     "start_time": "2021-01-14T18:38:38.047657Z"
    }
   },
   "outputs": [
    {
     "data": {
      "text/plain": [
       "<matplotlib.axes._subplots.AxesSubplot at 0x22301f2fa88>"
      ]
     },
     "execution_count": 19,
     "metadata": {},
     "output_type": "execute_result"
    },
    {
     "data": {
      "image/png": "[encoded data removed]",
      "text/plain": [
       "<Figure size 432x288 with 1 Axes>"
      ]
     },
     "metadata": {
      "needs_background": "light"
     },
     "output_type": "display_data"
    }
   ],
   "source": [
    "#country\n",
    "pdp_iso = pdp.pdp_isolate(model=clf, \n",
    "                          dataset=train.drop(Y_VAR, axis=1),      \n",
    "                          model_features=list(train.drop(Y_VAR, axis=1)), \n",
    "                          feature=[x for x in train.columns if \"platform\" in x], \n",
    "                          num_grid_points=50)\n",
    "pdp_dataset = pd.Series(pdp_iso.pdp, index=pdp_iso.display_columns)\n",
    "pdp_dataset.sort_values(ascending=False).plot(kind='bar', title='platform')"
   ]
  },
  {
   "cell_type": "code",
   "execution_count": 20,
   "metadata": {
    "ExecuteTime": {
     "end_time": "2021-01-14T18:38:46.142155Z",
     "start_time": "2021-01-14T18:38:46.137656Z"
    }
   },
   "outputs": [],
   "source": [
    "# Conclusions:\n",
    "# Ad works well for hip hop genre lovers, less so for other genres\n",
    "# There IS a few segments that have good performance but low absolute count (techno). Marketing should go after more of these people\n",
    "# High conversion but low abs count -> put this on a scatter plot. Go after these\n",
    "# Users with already saved payments do much better. Go after existing user base more\n",
    "# Fix the ads for low conversion segments. Especially if they have high count"
   ]
  },
  {
   "cell_type": "code",
   "execution_count": null,
   "metadata": {},
   "outputs": [],
   "source": []
  },
  {
   "cell_type": "code",
   "execution_count": null,
   "metadata": {},
   "outputs": [],
   "source": []
  }
 ],
 "metadata": {
  "kernelspec": {
   "display_name": "Python 3",
   "language": "python",
   "name": "python3"
  },
  "language_info": {
   "codemirror_mode": {
    "name": "ipython",
    "version": 3
   },
   "file_extension": ".py",
   "mimetype": "text/x-python",
   "name": "python",
   "nbconvert_exporter": "python",
   "pygments_lexer": "ipython3",
   "version": "3.7.7"
  },
  "varInspector": {
   "cols": {
    "lenName": 16,
    "lenType": 16,
    "lenVar": 40
   },
   "kernels_config": {
    "python": {
     "delete_cmd_postfix": "",
     "delete_cmd_prefix": "del ",
     "library": "var_list.py",
     "varRefreshCmd": "print(var_dic_list())"
    },
    "r": {
     "delete_cmd_postfix": ") ",
     "delete_cmd_prefix": "rm(",
     "library": "var_list.r",
     "varRefreshCmd": "cat(var_dic_list()) "
    }
   },
   "types_to_exclude": [
    "module",
    "function",
    "builtin_function_or_method",
    "instance",
    "_Feature"
   ],
   "window_display": false
  }
 },
 "nbformat": 4,
 "nbformat_minor": 4
}