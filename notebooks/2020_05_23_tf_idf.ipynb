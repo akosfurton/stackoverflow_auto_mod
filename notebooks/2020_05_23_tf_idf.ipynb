{
 "cells": [
  {
   "cell_type": "code",
   "execution_count": 1,
   "metadata": {},
   "outputs": [],
   "source": [
    "import os\n",
    "from okcupid_stackoverflow.src.tf_idf.tf_idf import run_fit_tf_idf\n",
    "from okcupid_stackoverflow.utils.git_utils import get_git_root"
   ]
  },
  {
   "cell_type": "code",
   "execution_count": 2,
   "metadata": {},
   "outputs": [],
   "source": [
    "git_root_loc = get_git_root(os.getcwd())"
   ]
  },
  {
   "cell_type": "code",
   "execution_count": null,
   "metadata": {},
   "outputs": [],
   "source": [
    "run_name = \"akos_testing_pipeline_no_metadata\"\n",
    "use_metadata=False\n",
    "run_fit_tf_idf(git_root_loc, run_id=run_name, save_external=True, use_metadata=use_metadata)"
   ]
  },
  {
   "cell_type": "code",
   "execution_count": null,
   "metadata": {},
   "outputs": [],
   "source": [
    "run_name = \"akos_testing_pipeline\"\n",
    "use_metadata=True\n",
    "run_fit_tf_idf(git_root_loc, run_id=run_name, save_external=True, use_metadata=use_metadata)"
   ]
  }
 ],
 "metadata": {
  "kernelspec": {
   "display_name": "okcupid_interview",
   "language": "python",
   "name": "okcupid_interview"
  },
  "language_info": {
   "codemirror_mode": {
    "name": "ipython",
    "version": 3
   },
   "file_extension": ".py",
   "mimetype": "text/x-python",
   "name": "python",
   "nbconvert_exporter": "python",
   "pygments_lexer": "ipython3",
   "version": "3.7.7"
  }
 },
 "nbformat": 4,
 "nbformat_minor": 4
}
