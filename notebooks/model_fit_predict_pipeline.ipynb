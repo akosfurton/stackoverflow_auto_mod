{
 "cells": [
  {
   "cell_type": "code",
   "execution_count": 1,
   "metadata": {
    "ExecuteTime": {
     "end_time": "2021-01-14T18:45:43.572877Z",
     "start_time": "2021-01-14T18:45:37.340877Z"
    }
   },
   "outputs": [],
   "source": [
    "import json\n",
    "import os\n",
    "\n",
    "import pandas as pd\n",
    "from pandas.api.types import CategoricalDtype\n",
    "\n",
    "from flask import Flask, render_template, request, make_response\n",
    "from joblib import load\n",
    "from werkzeug.utils import secure_filename\n",
    "\n",
    "from micdrop.src.preprocessing.run_preprocessing import run_preprocessing\n",
    "from micdrop.utils.constants import CATEGORICAL_COLS, NUMERIC_COLS, EXPECTED_COLUMNS, Y_VAR\n",
    "from micdrop.utils.git_utils import get_git_root"
   ]
  },
  {
   "cell_type": "code",
   "execution_count": null,
   "metadata": {},
   "outputs": [],
   "source": []
  },
  {
   "cell_type": "code",
   "execution_count": null,
   "metadata": {},
   "outputs": [],
   "source": []
  },
  {
   "cell_type": "code",
   "execution_count": 2,
   "metadata": {
    "ExecuteTime": {
     "end_time": "2021-01-14T18:45:46.438374Z",
     "start_time": "2021-01-14T18:45:43.577377Z"
    }
   },
   "outputs": [],
   "source": [
    "root_dir = get_git_root(os.getcwd())\n",
    "path = f\"{root_dir}/models/random_forest\"\n",
    "files = os.listdir(path)\n",
    "paths = [os.path.join(path, basename) for basename in files]\n",
    "latest_model_path = max(\n",
    "    [x for x in paths if \"random_forest.pkl\" in x], key=os.path.getctime,\n",
    ")\n",
    "latest_cat_cols_dict_path = max(\n",
    "    [x for x in paths if \"categorical_cols_dict.json\" in x], key=os.path.getctime,\n",
    ")\n",
    "with open(latest_model_path, \"rb\") as saved_classifier:\n",
    "    clf = load(saved_classifier)\n",
    "\n",
    "with open(latest_cat_cols_dict_path, \"rb\") as c:\n",
    "    latest_categorical_cols_dict = json.load(c)\n"
   ]
  },
  {
   "cell_type": "code",
   "execution_count": 3,
   "metadata": {
    "ExecuteTime": {
     "end_time": "2021-01-14T18:45:46.447876Z",
     "start_time": "2021-01-14T18:45:46.442376Z"
    }
   },
   "outputs": [],
   "source": [
    "file_obj = f\"{root_dir}/data/raw/micdrop_subsciptions_data_v1.csv\""
   ]
  },
  {
   "cell_type": "code",
   "execution_count": 4,
   "metadata": {
    "ExecuteTime": {
     "end_time": "2021-01-14T18:45:46.763874Z",
     "start_time": "2021-01-14T18:45:46.456377Z"
    }
   },
   "outputs": [],
   "source": [
    "post = pd.read_csv(file_obj, encoding=\"utf-8\", parse_dates=[\"click_date\"])\n",
    "df = post.copy()\n",
    "df.columns = [x.lower() for x in df.columns]\n"
   ]
  },
  {
   "cell_type": "code",
   "execution_count": 5,
   "metadata": {
    "ExecuteTime": {
     "end_time": "2021-01-14T18:45:47.205373Z",
     "start_time": "2021-01-14T18:45:46.766875Z"
    }
   },
   "outputs": [],
   "source": [
    "if Y_VAR in df.columns:\n",
    "    df = df.drop(Y_VAR, axis=1)\n",
    "\n",
    "input_cols = sorted(list(df.columns))\n",
    "if input_cols != sorted(list(EXPECTED_COLUMNS)):\n",
    "    raise AssertionError(\n",
    "        f\"List of input columns does not match expected list.\"\n",
    "        f\"Input columns are: {input_cols}\"\n",
    "        f\"Expected columns are: {sorted(list(EXPECTED_COLUMNS))}\"\n",
    "    )\n",
    "\n",
    "df = run_preprocessing(\"\", df=df, save_external=False)"
   ]
  },
  {
   "cell_type": "code",
   "execution_count": 6,
   "metadata": {
    "ExecuteTime": {
     "end_time": "2021-01-14T18:45:47.384376Z",
     "start_time": "2021-01-14T18:45:47.208375Z"
    }
   },
   "outputs": [],
   "source": [
    "# Convert into categorical data type before pd.get_dummies()\n",
    "# This way, categories that are missing in the prediction dataset are still kept as columns of all 0s.\n",
    "for col_nm in CATEGORICAL_COLS:\n",
    "    df[col_nm] = df[col_nm].astype(CategoricalDtype(categories=latest_categorical_cols_dict[col_nm]))\n",
    "\n",
    "x_pred = pd.get_dummies(df[CATEGORICAL_COLS + NUMERIC_COLS], dummy_na=True)\n"
   ]
  },
  {
   "cell_type": "code",
   "execution_count": 7,
   "metadata": {
    "ExecuteTime": {
     "end_time": "2021-01-14T18:45:53.774374Z",
     "start_time": "2021-01-14T18:45:47.387376Z"
    }
   },
   "outputs": [
    {
     "data": {
      "text/plain": [
       "array([0.04723161, 0.05029823, 0.03602074, ..., 0.04200168, 0.11835314,\n",
       "       0.02190812])"
      ]
     },
     "execution_count": 7,
     "metadata": {},
     "output_type": "execute_result"
    }
   ],
   "source": [
    "clf.predict_proba(x_pred)[:, 1]"
   ]
  },
  {
   "cell_type": "code",
   "execution_count": 8,
   "metadata": {
    "ExecuteTime": {
     "end_time": "2021-01-14T18:45:53.789378Z",
     "start_time": "2021-01-14T18:45:53.780876Z"
    }
   },
   "outputs": [
    {
     "data": {
      "text/plain": [
       "94194"
      ]
     },
     "execution_count": 8,
     "metadata": {},
     "output_type": "execute_result"
    }
   ],
   "source": [
    "len(x_pred)"
   ]
  },
  {
   "cell_type": "code",
   "execution_count": 9,
   "metadata": {
    "ExecuteTime": {
     "end_time": "2021-01-14T18:45:53.834877Z",
     "start_time": "2021-01-14T18:45:53.793877Z"
    }
   },
   "outputs": [
    {
     "data": {
      "text/plain": [
       "94194"
      ]
     },
     "execution_count": 9,
     "metadata": {},
     "output_type": "execute_result"
    }
   ],
   "source": [
    "len(post)"
   ]
  },
  {
   "cell_type": "code",
   "execution_count": 10,
   "metadata": {
    "ExecuteTime": {
     "end_time": "2021-01-14T18:45:53.847377Z",
     "start_time": "2021-01-14T18:45:53.840876Z"
    }
   },
   "outputs": [
    {
     "data": {
      "text/plain": [
       "94194"
      ]
     },
     "execution_count": 10,
     "metadata": {},
     "output_type": "execute_result"
    }
   ],
   "source": [
    "len(df)"
   ]
  },
  {
   "cell_type": "code",
   "execution_count": null,
   "metadata": {},
   "outputs": [],
   "source": []
  }
 ],
 "metadata": {
  "kernelspec": {
   "display_name": "Python 3",
   "language": "python",
   "name": "python3"
  },
  "language_info": {
   "codemirror_mode": {
    "name": "ipython",
    "version": 3
   },
   "file_extension": ".py",
   "mimetype": "text/x-python",
   "name": "python",
   "nbconvert_exporter": "python",
   "pygments_lexer": "ipython3",
   "version": "3.7.7"
  },
  "varInspector": {
   "cols": {
    "lenName": 16,
    "lenType": 16,
    "lenVar": 40
   },
   "kernels_config": {
    "python": {
     "delete_cmd_postfix": "",
     "delete_cmd_prefix": "del ",
     "library": "var_list.py",
     "varRefreshCmd": "print(var_dic_list())"
    },
    "r": {
     "delete_cmd_postfix": ") ",
     "delete_cmd_prefix": "rm(",
     "library": "var_list.r",
     "varRefreshCmd": "cat(var_dic_list()) "
    }
   },
   "types_to_exclude": [
    "module",
    "function",
    "builtin_function_or_method",
    "instance",
    "_Feature"
   ],
   "window_display": false
  }
 },
 "nbformat": 4,
 "nbformat_minor": 4
}
